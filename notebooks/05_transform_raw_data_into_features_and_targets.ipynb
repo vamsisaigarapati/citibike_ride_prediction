{
 "cells": [
  {
   "cell_type": "markdown",
   "id": "6f476cb6-bf4f-4242-9d61-2bb2465f2920",
   "metadata": {},
   "source": [
    "## Steps\n",
    "1. Download all raw data for a given year and month\n",
    "1. For each raw data, apply the filter before saving it\n",
    "1. Transform the saved raw data into TS data\n",
    "1. Convert the ts data into features and targets\n",
    "1. Save the transformed data\n",
    "\n",
    "\n",
    "Main objective is to write utility functions to do all these things so we can reuse them later. "
   ]
  },
  {
   "cell_type": "code",
   "execution_count": 22,
   "id": "6f98128f-2321-4869-9ea9-e1071baaf8c4",
   "metadata": {},
   "outputs": [
    {
     "name": "stdout",
     "output_type": "stream",
     "text": [
      "The autoreload extension is already loaded. To reload it, use:\n",
      "  %reload_ext autoreload\n"
     ]
    }
   ],
   "source": [
    "%load_ext autoreload\n",
    "%autoreload 2"
   ]
  },
  {
   "cell_type": "code",
   "execution_count": 23,
   "id": "a15f5136",
   "metadata": {},
   "outputs": [
    {
     "data": {
      "text/plain": [
       "'/Users/vamsisaigarapati/Documents/github/citibike_ride_prediction'"
      ]
     },
     "execution_count": 23,
     "metadata": {},
     "output_type": "execute_result"
    }
   ],
   "source": [
    "import sys\n",
    "import os\n",
    "os.path.abspath(os.path.join(os.getcwd(), \"..\"))"
   ]
  },
  {
   "cell_type": "code",
   "execution_count": 24,
   "id": "74b31479-65d1-4988-8b24-a8865a270e4e",
   "metadata": {},
   "outputs": [],
   "source": [
    "import sys\n",
    "import os\n",
    "\n",
    "# Add the parent directory to the Python path\n",
    "sys.path.append(os.path.abspath(os.path.join(os.getcwd(), \"..\")))\n",
    "\n",
    "# Now you can import from src\n",
    "from src.data_utils import load_and_process_bike_data"
   ]
  },
  {
   "cell_type": "code",
   "execution_count": null,
   "id": "05f1284a-f013-4a39-971f-f3dec0d49ba9",
   "metadata": {},
   "outputs": [
    {
     "name": "stdout",
     "output_type": "stream",
     "text": [
      "Downloading data for 2024-01...\n",
      "JC-202401-citibike-tripdata.csv\n",
      "Successfully downloaded data for 2024-01.\n",
      "Loading data for 2024-01...\n",
      "Total records: 50,661\n",
      "Valid records: 50,626\n",
      "Records dropped: 35 (0.07%)\n",
      "Successfully processed data for 2024-01.\n",
      "Downloading data for 2024-02...\n"
     ]
    },
    {
     "name": "stderr",
     "output_type": "stream",
     "text": [
      "/Users/vamsisaigarapati/Documents/github/citibike_ride_prediction/src/data_utils.py:98: UserWarning: This pattern is interpreted as a regular expression, and has match groups. To actually get the groups, use str.extract.\n",
      "  location_filter = ~rides[\"start_station_id\"].astype(str).str.contains(r'^\\d+(\\.\\d+)?$', regex=True)\n"
     ]
    },
    {
     "name": "stdout",
     "output_type": "stream",
     "text": [
      "JC-202402-citibike-tripdata.csv\n",
      "Successfully downloaded data for 2024-02.\n",
      "Loading data for 2024-02...\n",
      "Total records: 55,613\n",
      "Valid records: 55,582\n",
      "Records dropped: 31 (0.06%)\n",
      "Successfully processed data for 2024-02.\n",
      "Downloading data for 2024-03...\n"
     ]
    },
    {
     "name": "stderr",
     "output_type": "stream",
     "text": [
      "/Users/vamsisaigarapati/Documents/github/citibike_ride_prediction/src/data_utils.py:98: UserWarning: This pattern is interpreted as a regular expression, and has match groups. To actually get the groups, use str.extract.\n",
      "  location_filter = ~rides[\"start_station_id\"].astype(str).str.contains(r'^\\d+(\\.\\d+)?$', regex=True)\n"
     ]
    },
    {
     "name": "stdout",
     "output_type": "stream",
     "text": [
      "JC-202403-citibike-tripdata.csv\n",
      "Successfully downloaded data for 2024-03.\n",
      "Loading data for 2024-03...\n"
     ]
    },
    {
     "name": "stderr",
     "output_type": "stream",
     "text": [
      "/Users/vamsisaigarapati/Documents/github/citibike_ride_prediction/src/data_utils.py:98: UserWarning: This pattern is interpreted as a regular expression, and has match groups. To actually get the groups, use str.extract.\n",
      "  location_filter = ~rides[\"start_station_id\"].astype(str).str.contains(r'^\\d+(\\.\\d+)?$', regex=True)\n",
      "/Users/vamsisaigarapati/Documents/github/citibike_ride_prediction/src/data_utils.py:98: UserWarning: This pattern is interpreted as a regular expression, and has match groups. To actually get the groups, use str.extract.\n",
      "  location_filter = ~rides[\"start_station_id\"].astype(str).str.contains(r'^\\d+(\\.\\d+)?$', regex=True)\n"
     ]
    },
    {
     "name": "stdout",
     "output_type": "stream",
     "text": [
      "Total records: 65,581\n",
      "Valid records: 65,553\n",
      "Records dropped: 28 (0.04%)\n",
      "Successfully processed data for 2024-03.\n",
      "File already exists for 2024-04.\n",
      "Loading data for 2024-04...\n",
      "Total records: 79,116\n",
      "Valid records: 79,071\n",
      "Records dropped: 45 (0.06%)\n",
      "Successfully processed data for 2024-04.\n",
      "File already exists for 2024-05.\n",
      "Loading data for 2024-05...\n"
     ]
    },
    {
     "name": "stderr",
     "output_type": "stream",
     "text": [
      "/Users/vamsisaigarapati/Documents/github/citibike_ride_prediction/src/data_utils.py:98: UserWarning: This pattern is interpreted as a regular expression, and has match groups. To actually get the groups, use str.extract.\n",
      "  location_filter = ~rides[\"start_station_id\"].astype(str).str.contains(r'^\\d+(\\.\\d+)?$', regex=True)\n"
     ]
    },
    {
     "name": "stdout",
     "output_type": "stream",
     "text": [
      "Total records: 97,479\n",
      "Valid records: 97,405\n",
      "Records dropped: 74 (0.08%)\n",
      "Successfully processed data for 2024-05.\n",
      "Downloading data for 2024-06...\n",
      "JC-202406-citibike-tripdata.csv\n",
      "Successfully downloaded data for 2024-06.\n",
      "Loading data for 2024-06...\n"
     ]
    },
    {
     "name": "stderr",
     "output_type": "stream",
     "text": [
      "/Users/vamsisaigarapati/Documents/github/citibike_ride_prediction/src/data_utils.py:98: UserWarning: This pattern is interpreted as a regular expression, and has match groups. To actually get the groups, use str.extract.\n",
      "  location_filter = ~rides[\"start_station_id\"].astype(str).str.contains(r'^\\d+(\\.\\d+)?$', regex=True)\n"
     ]
    },
    {
     "name": "stdout",
     "output_type": "stream",
     "text": [
      "Total records: 111,115\n",
      "Valid records: 110,952\n",
      "Records dropped: 163 (0.15%)\n",
      "Successfully processed data for 2024-06.\n",
      "Downloading data for 2024-07...\n",
      "JC-202407-citibike-tripdata.csv\n",
      "Successfully downloaded data for 2024-07.\n",
      "Loading data for 2024-07...\n"
     ]
    },
    {
     "name": "stderr",
     "output_type": "stream",
     "text": [
      "/Users/vamsisaigarapati/Documents/github/citibike_ride_prediction/src/data_utils.py:98: UserWarning: This pattern is interpreted as a regular expression, and has match groups. To actually get the groups, use str.extract.\n",
      "  location_filter = ~rides[\"start_station_id\"].astype(str).str.contains(r'^\\d+(\\.\\d+)?$', regex=True)\n"
     ]
    },
    {
     "name": "stdout",
     "output_type": "stream",
     "text": [
      "Total records: 112,443\n",
      "Valid records: 112,366\n",
      "Records dropped: 77 (0.07%)\n",
      "Successfully processed data for 2024-07.\n",
      "Downloading data for 2024-08...\n",
      "JC-202408-citibike-tripdata.csv\n",
      "Successfully downloaded data for 2024-08.\n",
      "Loading data for 2024-08...\n"
     ]
    },
    {
     "name": "stderr",
     "output_type": "stream",
     "text": [
      "/Users/vamsisaigarapati/Documents/github/citibike_ride_prediction/src/data_utils.py:98: UserWarning: This pattern is interpreted as a regular expression, and has match groups. To actually get the groups, use str.extract.\n",
      "  location_filter = ~rides[\"start_station_id\"].astype(str).str.contains(r'^\\d+(\\.\\d+)?$', regex=True)\n"
     ]
    },
    {
     "name": "stdout",
     "output_type": "stream",
     "text": [
      "Total records: 106,451\n",
      "Valid records: 106,405\n",
      "Records dropped: 46 (0.04%)\n",
      "Successfully processed data for 2024-08.\n",
      "Downloading data for 2024-09...\n",
      "JC-202409-citibike-tripdata.csv\n",
      "Successfully downloaded data for 2024-09.\n",
      "Loading data for 2024-09...\n"
     ]
    },
    {
     "name": "stderr",
     "output_type": "stream",
     "text": [
      "/Users/vamsisaigarapati/Documents/github/citibike_ride_prediction/src/data_utils.py:98: UserWarning: This pattern is interpreted as a regular expression, and has match groups. To actually get the groups, use str.extract.\n",
      "  location_filter = ~rides[\"start_station_id\"].astype(str).str.contains(r'^\\d+(\\.\\d+)?$', regex=True)\n"
     ]
    },
    {
     "name": "stdout",
     "output_type": "stream",
     "text": [
      "Total records: 115,558\n",
      "Valid records: 115,516\n",
      "Records dropped: 42 (0.04%)\n",
      "Successfully processed data for 2024-09.\n",
      "Downloading data for 2024-10...\n",
      "JC-202410-citibike-tripdata.csv\n",
      "Successfully downloaded data for 2024-10.\n",
      "Loading data for 2024-10...\n"
     ]
    },
    {
     "name": "stderr",
     "output_type": "stream",
     "text": [
      "/Users/vamsisaigarapati/Documents/github/citibike_ride_prediction/src/data_utils.py:98: UserWarning: This pattern is interpreted as a regular expression, and has match groups. To actually get the groups, use str.extract.\n",
      "  location_filter = ~rides[\"start_station_id\"].astype(str).str.contains(r'^\\d+(\\.\\d+)?$', regex=True)\n"
     ]
    },
    {
     "name": "stdout",
     "output_type": "stream",
     "text": [
      "Total records: 118,307\n",
      "Valid records: 118,268\n",
      "Records dropped: 39 (0.03%)\n",
      "Successfully processed data for 2024-10.\n",
      "Downloading data for 2024-11...\n",
      "JC-202411-citibike-tripdata.csv\n",
      "Successfully downloaded data for 2024-11.\n",
      "Loading data for 2024-11...\n"
     ]
    },
    {
     "name": "stderr",
     "output_type": "stream",
     "text": [
      "/Users/vamsisaigarapati/Documents/github/citibike_ride_prediction/src/data_utils.py:98: UserWarning: This pattern is interpreted as a regular expression, and has match groups. To actually get the groups, use str.extract.\n",
      "  location_filter = ~rides[\"start_station_id\"].astype(str).str.contains(r'^\\d+(\\.\\d+)?$', regex=True)\n"
     ]
    },
    {
     "name": "stdout",
     "output_type": "stream",
     "text": [
      "Total records: 85,294\n",
      "Valid records: 85,263\n",
      "Records dropped: 31 (0.04%)\n",
      "Successfully processed data for 2024-11.\n",
      "Downloading data for 2024-12...\n",
      "JC-202412-citibike-tripdata.csv\n",
      "Successfully downloaded data for 2024-12.\n",
      "Loading data for 2024-12...\n",
      "Total records: 54,833\n",
      "Valid records: 54,813\n",
      "Records dropped: 20 (0.04%)\n",
      "Successfully processed data for 2024-12.\n",
      "Combining all monthly data...\n",
      "Data loading and processing complete!\n"
     ]
    },
    {
     "name": "stderr",
     "output_type": "stream",
     "text": [
      "/Users/vamsisaigarapati/Documents/github/citibike_ride_prediction/src/data_utils.py:98: UserWarning: This pattern is interpreted as a regular expression, and has match groups. To actually get the groups, use str.extract.\n",
      "  location_filter = ~rides[\"start_station_id\"].astype(str).str.contains(r'^\\d+(\\.\\d+)?$', regex=True)\n"
     ]
    }
   ],
   "source": [
    "rides = load_and_process_bike_data(year=2023)"
   ]
  },
  {
   "cell_type": "code",
   "execution_count": 6,
   "id": "dc4d2a54-f3eb-4772-b568-9c2f1045c08c",
   "metadata": {},
   "outputs": [
    {
     "data": {
      "text/html": [
       "<div>\n",
       "<style scoped>\n",
       "    .dataframe tbody tr th:only-of-type {\n",
       "        vertical-align: middle;\n",
       "    }\n",
       "\n",
       "    .dataframe tbody tr th {\n",
       "        vertical-align: top;\n",
       "    }\n",
       "\n",
       "    .dataframe thead th {\n",
       "        text-align: right;\n",
       "    }\n",
       "</style>\n",
       "<table border=\"1\" class=\"dataframe\">\n",
       "  <thead>\n",
       "    <tr style=\"text-align: right;\">\n",
       "      <th></th>\n",
       "      <th>pickup_datetime</th>\n",
       "      <th>pickup_location_id</th>\n",
       "    </tr>\n",
       "  </thead>\n",
       "  <tbody>\n",
       "    <tr>\n",
       "      <th>0</th>\n",
       "      <td>2023-01-01 00:06:36</td>\n",
       "      <td>JC102</td>\n",
       "    </tr>\n",
       "    <tr>\n",
       "      <th>1</th>\n",
       "      <td>2023-01-01 00:07:48</td>\n",
       "      <td>JC098</td>\n",
       "    </tr>\n",
       "    <tr>\n",
       "      <th>2</th>\n",
       "      <td>2023-01-01 00:10:11</td>\n",
       "      <td>JC002</td>\n",
       "    </tr>\n",
       "    <tr>\n",
       "      <th>3</th>\n",
       "      <td>2023-01-01 00:10:12</td>\n",
       "      <td>JC103</td>\n",
       "    </tr>\n",
       "    <tr>\n",
       "      <th>4</th>\n",
       "      <td>2023-01-01 00:15:26</td>\n",
       "      <td>HB402</td>\n",
       "    </tr>\n",
       "    <tr>\n",
       "      <th>...</th>\n",
       "      <td>...</td>\n",
       "      <td>...</td>\n",
       "    </tr>\n",
       "    <tr>\n",
       "      <th>987462</th>\n",
       "      <td>2023-12-31 23:49:41</td>\n",
       "      <td>JC078</td>\n",
       "    </tr>\n",
       "    <tr>\n",
       "      <th>987463</th>\n",
       "      <td>2023-12-31 23:49:44</td>\n",
       "      <td>JC078</td>\n",
       "    </tr>\n",
       "    <tr>\n",
       "      <th>987464</th>\n",
       "      <td>2023-12-31 23:50:04</td>\n",
       "      <td>HB608</td>\n",
       "    </tr>\n",
       "    <tr>\n",
       "      <th>987465</th>\n",
       "      <td>2023-12-31 23:52:52</td>\n",
       "      <td>JC023</td>\n",
       "    </tr>\n",
       "    <tr>\n",
       "      <th>987466</th>\n",
       "      <td>2023-12-31 23:59:57</td>\n",
       "      <td>JC109</td>\n",
       "    </tr>\n",
       "  </tbody>\n",
       "</table>\n",
       "<p>987467 rows × 2 columns</p>\n",
       "</div>"
      ],
      "text/plain": [
       "           pickup_datetime pickup_location_id\n",
       "0      2023-01-01 00:06:36              JC102\n",
       "1      2023-01-01 00:07:48              JC098\n",
       "2      2023-01-01 00:10:11              JC002\n",
       "3      2023-01-01 00:10:12              JC103\n",
       "4      2023-01-01 00:15:26              HB402\n",
       "...                    ...                ...\n",
       "987462 2023-12-31 23:49:41              JC078\n",
       "987463 2023-12-31 23:49:44              JC078\n",
       "987464 2023-12-31 23:50:04              HB608\n",
       "987465 2023-12-31 23:52:52              JC023\n",
       "987466 2023-12-31 23:59:57              JC109\n",
       "\n",
       "[987467 rows x 2 columns]"
      ]
     },
     "execution_count": 6,
     "metadata": {},
     "output_type": "execute_result"
    }
   ],
   "source": [
    "rides"
   ]
  },
  {
   "cell_type": "code",
   "execution_count": 7,
   "id": "f541e651",
   "metadata": {},
   "outputs": [],
   "source": [
    "rides_cp = rides.copy()"
   ]
  },
  {
   "cell_type": "code",
   "execution_count": 8,
   "id": "a844664c",
   "metadata": {},
   "outputs": [
    {
     "name": "stdout",
     "output_type": "stream",
     "text": [
      "<class 'pandas.core.frame.DataFrame'>\n",
      "RangeIndex: 987467 entries, 0 to 987466\n",
      "Data columns (total 2 columns):\n",
      " #   Column              Non-Null Count   Dtype         \n",
      "---  ------              --------------   -----         \n",
      " 0   pickup_datetime     987467 non-null  datetime64[ns]\n",
      " 1   pickup_location_id  987383 non-null  object        \n",
      "dtypes: datetime64[ns](1), object(1)\n",
      "memory usage: 15.1+ MB\n"
     ]
    }
   ],
   "source": [
    "rides.info()"
   ]
  },
  {
   "cell_type": "code",
   "execution_count": 9,
   "id": "e8ed6f1d",
   "metadata": {},
   "outputs": [
    {
     "data": {
      "text/plain": [
       "array(['JC102', 'JC098', 'JC002', 'JC103', 'HB402', 'JC104', 'JC008',\n",
       "       'HB303', 'HB102', 'HB507', 'HB407', 'HB101', 'HB202', 'JC024',\n",
       "       'HB603', 'HB607', 'JC051', 'JC066', 'HB401', 'HB302', 'JC109',\n",
       "       'HB304', 'HB105', 'JC006', 'JC106', 'HB103', 'JC014', 'JC105',\n",
       "       'HB203', 'JC003', 'JC035', 'HB502', 'HB305', 'HB409', 'JC032',\n",
       "       'HB602', 'JC022', 'HB301', 'JC115', 'JC110', 'HB201', 'HB506',\n",
       "       'JC019', 'JC059', 'HB404', 'JC055', 'JC077', 'HB601', 'JC080',\n",
       "       'JC038', 'JC099', 'JC057', 'JC052', 'JC093', 'JC020', 'JC065',\n",
       "       'JC107', 'JC095', 'JC023', 'JC072', 'JC094', 'JC076', 'JC034',\n",
       "       'JC074', 'JC082', 'JC078', 'JC009', 'HB408', 'HB503', 'JC013',\n",
       "       'HB505', 'JC081', 'JC063', 'JC108', 'JC075', 'JC018', 'JC097',\n",
       "       'JC084', 'JC027', 'JC053', 'HB501', 'HB608', 'JC116', nan, 'HB609',\n",
       "       'HB610', 'HB611'], dtype=object)"
      ]
     },
     "execution_count": 9,
     "metadata": {},
     "output_type": "execute_result"
    }
   ],
   "source": [
    "rides['pickup_location_id'].unique()"
   ]
  },
  {
   "cell_type": "code",
   "execution_count": 26,
   "id": "ffe23019",
   "metadata": {},
   "outputs": [
    {
     "data": {
      "text/html": [
       "<div>\n",
       "<style scoped>\n",
       "    .dataframe tbody tr th:only-of-type {\n",
       "        vertical-align: middle;\n",
       "    }\n",
       "\n",
       "    .dataframe tbody tr th {\n",
       "        vertical-align: top;\n",
       "    }\n",
       "\n",
       "    .dataframe thead th {\n",
       "        text-align: right;\n",
       "    }\n",
       "</style>\n",
       "<table border=\"1\" class=\"dataframe\">\n",
       "  <thead>\n",
       "    <tr style=\"text-align: right;\">\n",
       "      <th></th>\n",
       "      <th>pickup_datetime</th>\n",
       "      <th>pickup_location_id</th>\n",
       "    </tr>\n",
       "  </thead>\n",
       "  <tbody>\n",
       "    <tr>\n",
       "      <th>0</th>\n",
       "      <td>2024-01-01 00:06:21.000</td>\n",
       "      <td>JC038</td>\n",
       "    </tr>\n",
       "    <tr>\n",
       "      <th>1</th>\n",
       "      <td>2024-01-01 00:07:37.000</td>\n",
       "      <td>JC116</td>\n",
       "    </tr>\n",
       "    <tr>\n",
       "      <th>2</th>\n",
       "      <td>2024-01-01 00:08:26.000</td>\n",
       "      <td>JC116</td>\n",
       "    </tr>\n",
       "    <tr>\n",
       "      <th>3</th>\n",
       "      <td>2024-01-01 00:08:36.000</td>\n",
       "      <td>HB102</td>\n",
       "    </tr>\n",
       "    <tr>\n",
       "      <th>4</th>\n",
       "      <td>2024-01-01 00:08:44.000</td>\n",
       "      <td>JC116</td>\n",
       "    </tr>\n",
       "    <tr>\n",
       "      <th>...</th>\n",
       "      <td>...</td>\n",
       "      <td>...</td>\n",
       "    </tr>\n",
       "    <tr>\n",
       "      <th>1051815</th>\n",
       "      <td>2024-12-31 23:41:34.230</td>\n",
       "      <td>JC076</td>\n",
       "    </tr>\n",
       "    <tr>\n",
       "      <th>1051816</th>\n",
       "      <td>2024-12-31 23:50:07.562</td>\n",
       "      <td>JC023</td>\n",
       "    </tr>\n",
       "    <tr>\n",
       "      <th>1051817</th>\n",
       "      <td>2024-12-31 23:50:13.243</td>\n",
       "      <td>JC023</td>\n",
       "    </tr>\n",
       "    <tr>\n",
       "      <th>1051818</th>\n",
       "      <td>2024-12-31 23:51:39.161</td>\n",
       "      <td>HB303</td>\n",
       "    </tr>\n",
       "    <tr>\n",
       "      <th>1051819</th>\n",
       "      <td>2024-12-31 23:54:10.246</td>\n",
       "      <td>JC109</td>\n",
       "    </tr>\n",
       "  </tbody>\n",
       "</table>\n",
       "<p>1051820 rows × 2 columns</p>\n",
       "</div>"
      ],
      "text/plain": [
       "                pickup_datetime pickup_location_id\n",
       "0       2024-01-01 00:06:21.000              JC038\n",
       "1       2024-01-01 00:07:37.000              JC116\n",
       "2       2024-01-01 00:08:26.000              JC116\n",
       "3       2024-01-01 00:08:36.000              HB102\n",
       "4       2024-01-01 00:08:44.000              JC116\n",
       "...                         ...                ...\n",
       "1051815 2024-12-31 23:41:34.230              JC076\n",
       "1051816 2024-12-31 23:50:07.562              JC023\n",
       "1051817 2024-12-31 23:50:13.243              JC023\n",
       "1051818 2024-12-31 23:51:39.161              HB303\n",
       "1051819 2024-12-31 23:54:10.246              JC109\n",
       "\n",
       "[1051820 rows x 2 columns]"
      ]
     },
     "execution_count": 26,
     "metadata": {},
     "output_type": "execute_result"
    }
   ],
   "source": [
    "rides"
   ]
  },
  {
   "cell_type": "code",
   "execution_count": 27,
   "id": "daac31ae",
   "metadata": {},
   "outputs": [
    {
     "data": {
      "text/html": [
       "<div>\n",
       "<style scoped>\n",
       "    .dataframe tbody tr th:only-of-type {\n",
       "        vertical-align: middle;\n",
       "    }\n",
       "\n",
       "    .dataframe tbody tr th {\n",
       "        vertical-align: top;\n",
       "    }\n",
       "\n",
       "    .dataframe thead th {\n",
       "        text-align: right;\n",
       "    }\n",
       "</style>\n",
       "<table border=\"1\" class=\"dataframe\">\n",
       "  <thead>\n",
       "    <tr style=\"text-align: right;\">\n",
       "      <th></th>\n",
       "      <th>pickup_hour</th>\n",
       "      <th>pickup_location_id</th>\n",
       "      <th>rides</th>\n",
       "    </tr>\n",
       "  </thead>\n",
       "  <tbody>\n",
       "    <tr>\n",
       "      <th>0</th>\n",
       "      <td>2024-01-01 00:00:00</td>\n",
       "      <td>HB101</td>\n",
       "      <td>0</td>\n",
       "    </tr>\n",
       "    <tr>\n",
       "      <th>1</th>\n",
       "      <td>2024-01-01 01:00:00</td>\n",
       "      <td>HB101</td>\n",
       "      <td>2</td>\n",
       "    </tr>\n",
       "    <tr>\n",
       "      <th>2</th>\n",
       "      <td>2024-01-01 02:00:00</td>\n",
       "      <td>HB101</td>\n",
       "      <td>7</td>\n",
       "    </tr>\n",
       "    <tr>\n",
       "      <th>3</th>\n",
       "      <td>2024-01-01 03:00:00</td>\n",
       "      <td>HB101</td>\n",
       "      <td>2</td>\n",
       "    </tr>\n",
       "    <tr>\n",
       "      <th>4</th>\n",
       "      <td>2024-01-01 04:00:00</td>\n",
       "      <td>HB101</td>\n",
       "      <td>1</td>\n",
       "    </tr>\n",
       "  </tbody>\n",
       "</table>\n",
       "</div>"
      ],
      "text/plain": [
       "          pickup_hour pickup_location_id  rides\n",
       "0 2024-01-01 00:00:00              HB101      0\n",
       "1 2024-01-01 01:00:00              HB101      2\n",
       "2 2024-01-01 02:00:00              HB101      7\n",
       "3 2024-01-01 03:00:00              HB101      2\n",
       "4 2024-01-01 04:00:00              HB101      1"
      ]
     },
     "execution_count": 27,
     "metadata": {},
     "output_type": "execute_result"
    }
   ],
   "source": [
    "from src.data_utils import transform_raw_data_into_ts_data\n",
    "\n",
    "ts_data = transform_raw_data_into_ts_data(rides)\n",
    "ts_data.head()"
   ]
  },
  {
   "cell_type": "code",
   "execution_count": 28,
   "id": "ab53be54-9c14-4462-86e2-db2ea08eba8e",
   "metadata": {},
   "outputs": [
    {
     "data": {
      "text/html": [
       "<div>\n",
       "<style scoped>\n",
       "    .dataframe tbody tr th:only-of-type {\n",
       "        vertical-align: middle;\n",
       "    }\n",
       "\n",
       "    .dataframe tbody tr th {\n",
       "        vertical-align: top;\n",
       "    }\n",
       "\n",
       "    .dataframe thead th {\n",
       "        text-align: right;\n",
       "    }\n",
       "</style>\n",
       "<table border=\"1\" class=\"dataframe\">\n",
       "  <thead>\n",
       "    <tr style=\"text-align: right;\">\n",
       "      <th></th>\n",
       "      <th>pickup_hour</th>\n",
       "      <th>pickup_location_id</th>\n",
       "      <th>rides</th>\n",
       "    </tr>\n",
       "  </thead>\n",
       "  <tbody>\n",
       "    <tr>\n",
       "      <th>0</th>\n",
       "      <td>2024-01-01 00:00:00</td>\n",
       "      <td>HB101</td>\n",
       "      <td>12</td>\n",
       "    </tr>\n",
       "    <tr>\n",
       "      <th>1</th>\n",
       "      <td>2024-01-01 01:00:00</td>\n",
       "      <td>HB101</td>\n",
       "      <td>0</td>\n",
       "    </tr>\n",
       "    <tr>\n",
       "      <th>2</th>\n",
       "      <td>2024-01-01 02:00:00</td>\n",
       "      <td>HB101</td>\n",
       "      <td>0</td>\n",
       "    </tr>\n",
       "    <tr>\n",
       "      <th>3</th>\n",
       "      <td>2024-01-01 03:00:00</td>\n",
       "      <td>HB101</td>\n",
       "      <td>0</td>\n",
       "    </tr>\n",
       "    <tr>\n",
       "      <th>4</th>\n",
       "      <td>2024-01-01 04:00:00</td>\n",
       "      <td>HB101</td>\n",
       "      <td>0</td>\n",
       "    </tr>\n",
       "  </tbody>\n",
       "</table>\n",
       "</div>"
      ],
      "text/plain": [
       "          pickup_hour pickup_location_id  rides\n",
       "0 2024-01-01 00:00:00              HB101     12\n",
       "1 2024-01-01 01:00:00              HB101      0\n",
       "2 2024-01-01 02:00:00              HB101      0\n",
       "3 2024-01-01 03:00:00              HB101      0\n",
       "4 2024-01-01 04:00:00              HB101      0"
      ]
     },
     "execution_count": 28,
     "metadata": {},
     "output_type": "execute_result"
    }
   ],
   "source": [
    "from src.data_utils import transform_raw_data_into_ts_data\n",
    "\n",
    "ts_data = transform_raw_data_into_ts_data(rides,6)\n",
    "ts_data.head()"
   ]
  },
  {
   "cell_type": "code",
   "execution_count": 12,
   "id": "acadfe17",
   "metadata": {},
   "outputs": [
    {
     "data": {
      "text/html": [
       "<div>\n",
       "<style scoped>\n",
       "    .dataframe tbody tr th:only-of-type {\n",
       "        vertical-align: middle;\n",
       "    }\n",
       "\n",
       "    .dataframe tbody tr th {\n",
       "        vertical-align: top;\n",
       "    }\n",
       "\n",
       "    .dataframe thead th {\n",
       "        text-align: right;\n",
       "    }\n",
       "</style>\n",
       "<table border=\"1\" class=\"dataframe\">\n",
       "  <thead>\n",
       "    <tr style=\"text-align: right;\">\n",
       "      <th></th>\n",
       "      <th>pickup_hour</th>\n",
       "      <th>pickup_location_id</th>\n",
       "      <th>rides</th>\n",
       "    </tr>\n",
       "  </thead>\n",
       "  <tbody>\n",
       "    <tr>\n",
       "      <th>752925</th>\n",
       "      <td>2023-12-31 14:00:00</td>\n",
       "      <td>JC116</td>\n",
       "      <td>0</td>\n",
       "    </tr>\n",
       "    <tr>\n",
       "      <th>752926</th>\n",
       "      <td>2023-12-31 15:00:00</td>\n",
       "      <td>JC116</td>\n",
       "      <td>0</td>\n",
       "    </tr>\n",
       "    <tr>\n",
       "      <th>752927</th>\n",
       "      <td>2023-12-31 16:00:00</td>\n",
       "      <td>JC116</td>\n",
       "      <td>0</td>\n",
       "    </tr>\n",
       "    <tr>\n",
       "      <th>752928</th>\n",
       "      <td>2023-12-31 17:00:00</td>\n",
       "      <td>JC116</td>\n",
       "      <td>0</td>\n",
       "    </tr>\n",
       "    <tr>\n",
       "      <th>752929</th>\n",
       "      <td>2023-12-31 18:00:00</td>\n",
       "      <td>JC116</td>\n",
       "      <td>20</td>\n",
       "    </tr>\n",
       "  </tbody>\n",
       "</table>\n",
       "</div>"
      ],
      "text/plain": [
       "               pickup_hour pickup_location_id  rides\n",
       "752925 2023-12-31 14:00:00              JC116      0\n",
       "752926 2023-12-31 15:00:00              JC116      0\n",
       "752927 2023-12-31 16:00:00              JC116      0\n",
       "752928 2023-12-31 17:00:00              JC116      0\n",
       "752929 2023-12-31 18:00:00              JC116     20"
      ]
     },
     "execution_count": 12,
     "metadata": {},
     "output_type": "execute_result"
    }
   ],
   "source": [
    "ts_data.tail()"
   ]
  },
  {
   "cell_type": "code",
   "execution_count": null,
   "id": "1c62bebf",
   "metadata": {},
   "outputs": [
    {
     "data": {
      "text/plain": [
       "hour_diff\n",
       "0 days 01:00:00        489384\n",
       "-243 days +06:00:00        83\n",
       "Name: count, dtype: int64"
      ]
     },
     "execution_count": 27,
     "metadata": {},
     "output_type": "execute_result"
    }
   ],
   "source": [
    "# ts_data[\"hour_diff\"] = ts_data[\"pickup_hour\"].diff()\n",
    "# ts_data[\"hour_diff\"].value_counts()\n"
   ]
  },
  {
   "cell_type": "code",
   "execution_count": 13,
   "id": "7d3d4eca",
   "metadata": {},
   "outputs": [
    {
     "data": {
      "text/html": [
       "<div>\n",
       "<style scoped>\n",
       "    .dataframe tbody tr th:only-of-type {\n",
       "        vertical-align: middle;\n",
       "    }\n",
       "\n",
       "    .dataframe tbody tr th {\n",
       "        vertical-align: top;\n",
       "    }\n",
       "\n",
       "    .dataframe thead th {\n",
       "        text-align: right;\n",
       "    }\n",
       "</style>\n",
       "<table border=\"1\" class=\"dataframe\">\n",
       "  <thead>\n",
       "    <tr style=\"text-align: right;\">\n",
       "      <th></th>\n",
       "      <th>pickup_hour</th>\n",
       "      <th>pickup_location_id</th>\n",
       "      <th>rides</th>\n",
       "    </tr>\n",
       "  </thead>\n",
       "  <tbody>\n",
       "    <tr>\n",
       "      <th>0</th>\n",
       "      <td>2023-01-01 00:00:00</td>\n",
       "      <td>HB101</td>\n",
       "      <td>5</td>\n",
       "    </tr>\n",
       "    <tr>\n",
       "      <th>1</th>\n",
       "      <td>2023-01-01 01:00:00</td>\n",
       "      <td>HB101</td>\n",
       "      <td>0</td>\n",
       "    </tr>\n",
       "    <tr>\n",
       "      <th>2</th>\n",
       "      <td>2023-01-01 02:00:00</td>\n",
       "      <td>HB101</td>\n",
       "      <td>0</td>\n",
       "    </tr>\n",
       "    <tr>\n",
       "      <th>3</th>\n",
       "      <td>2023-01-01 03:00:00</td>\n",
       "      <td>HB101</td>\n",
       "      <td>0</td>\n",
       "    </tr>\n",
       "    <tr>\n",
       "      <th>4</th>\n",
       "      <td>2023-01-01 04:00:00</td>\n",
       "      <td>HB101</td>\n",
       "      <td>0</td>\n",
       "    </tr>\n",
       "    <tr>\n",
       "      <th>...</th>\n",
       "      <td>...</td>\n",
       "      <td>...</td>\n",
       "      <td>...</td>\n",
       "    </tr>\n",
       "    <tr>\n",
       "      <th>752925</th>\n",
       "      <td>2023-12-31 14:00:00</td>\n",
       "      <td>JC116</td>\n",
       "      <td>0</td>\n",
       "    </tr>\n",
       "    <tr>\n",
       "      <th>752926</th>\n",
       "      <td>2023-12-31 15:00:00</td>\n",
       "      <td>JC116</td>\n",
       "      <td>0</td>\n",
       "    </tr>\n",
       "    <tr>\n",
       "      <th>752927</th>\n",
       "      <td>2023-12-31 16:00:00</td>\n",
       "      <td>JC116</td>\n",
       "      <td>0</td>\n",
       "    </tr>\n",
       "    <tr>\n",
       "      <th>752928</th>\n",
       "      <td>2023-12-31 17:00:00</td>\n",
       "      <td>JC116</td>\n",
       "      <td>0</td>\n",
       "    </tr>\n",
       "    <tr>\n",
       "      <th>752929</th>\n",
       "      <td>2023-12-31 18:00:00</td>\n",
       "      <td>JC116</td>\n",
       "      <td>20</td>\n",
       "    </tr>\n",
       "  </tbody>\n",
       "</table>\n",
       "<p>752930 rows × 3 columns</p>\n",
       "</div>"
      ],
      "text/plain": [
       "               pickup_hour pickup_location_id  rides\n",
       "0      2023-01-01 00:00:00              HB101      5\n",
       "1      2023-01-01 01:00:00              HB101      0\n",
       "2      2023-01-01 02:00:00              HB101      0\n",
       "3      2023-01-01 03:00:00              HB101      0\n",
       "4      2023-01-01 04:00:00              HB101      0\n",
       "...                    ...                ...    ...\n",
       "752925 2023-12-31 14:00:00              JC116      0\n",
       "752926 2023-12-31 15:00:00              JC116      0\n",
       "752927 2023-12-31 16:00:00              JC116      0\n",
       "752928 2023-12-31 17:00:00              JC116      0\n",
       "752929 2023-12-31 18:00:00              JC116     20\n",
       "\n",
       "[752930 rows x 3 columns]"
      ]
     },
     "execution_count": 13,
     "metadata": {},
     "output_type": "execute_result"
    }
   ],
   "source": [
    "ts_data"
   ]
  },
  {
   "cell_type": "code",
   "execution_count": 40,
   "id": "d0a828be",
   "metadata": {},
   "outputs": [
    {
     "data": {
      "text/plain": [
       "array(['HB101', 'HB102', 'HB103', 'HB105', 'HB201', 'HB202', 'HB203',\n",
       "       'HB301', 'HB302', 'HB303', 'HB304', 'HB305', 'HB401', 'HB402',\n",
       "       'HB404', 'HB407', 'HB408', 'HB409', 'HB501', 'HB502', 'HB503',\n",
       "       'HB505', 'HB506', 'HB507', 'HB601', 'HB602', 'HB603', 'HB607',\n",
       "       'HB608', 'HB609', 'JC002', 'JC003', 'JC006', 'JC008', 'JC009',\n",
       "       'JC013', 'JC014', 'JC018', 'JC019', 'JC020', 'JC022', 'JC023',\n",
       "       'JC024', 'JC027', 'JC032', 'JC034', 'JC035', 'JC038', 'JC051',\n",
       "       'JC052', 'JC053', 'JC055', 'JC057', 'JC059', 'JC063', 'JC065',\n",
       "       'JC066', 'JC072', 'JC074', 'JC075', 'JC076', 'JC077', 'JC078',\n",
       "       'JC080', 'JC081', 'JC082', 'JC084', 'JC093', 'JC094', 'JC095',\n",
       "       'JC097', 'JC098', 'JC099', 'JC102', 'JC103', 'JC104', 'JC105',\n",
       "       'JC106', 'JC107', 'JC108', 'JC109', 'JC110', 'JC115', 'JC116'],\n",
       "      dtype=object)"
      ]
     },
     "execution_count": 40,
     "metadata": {},
     "output_type": "execute_result"
    }
   ],
   "source": [
    "ts_data['pickup_location_id'].unique()"
   ]
  },
  {
   "cell_type": "code",
   "execution_count": 14,
   "id": "81564daa-a5b3-4dab-bf47-4c15685c7185",
   "metadata": {},
   "outputs": [
    {
     "data": {
      "text/plain": [
       "(752930, 3)"
      ]
     },
     "execution_count": 14,
     "metadata": {},
     "output_type": "execute_result"
    }
   ],
   "source": [
    "ts_data.shape"
   ]
  },
  {
   "cell_type": "code",
   "execution_count": 19,
   "id": "e2f6012e",
   "metadata": {},
   "outputs": [
    {
     "data": {
      "text/plain": [
       "(752930, 3)"
      ]
     },
     "execution_count": 19,
     "metadata": {},
     "output_type": "execute_result"
    }
   ],
   "source": [
    "ts_data.shape"
   ]
  },
  {
   "cell_type": "code",
   "execution_count": 18,
   "id": "17072a7d-967b-4132-b844-df8bfcabace0",
   "metadata": {},
   "outputs": [],
   "source": [
    "from src.data_utils import transform_ts_data_info_features_and_target\n",
    "\n",
    "features, targets = transform_ts_data_info_features_and_target(ts_data, window_size=24*28, step_size=12)"
   ]
  },
  {
   "cell_type": "code",
   "execution_count": 20,
   "id": "29507900-ce13-4ae1-80e0-1b537ab9f19a",
   "metadata": {},
   "outputs": [],
   "source": [
    "tabular_data = features\n",
    "tabular_data[\"target\"] = targets\n",
    "\n",
    "from src.config import TRANSFORMED_DATA_DIR\n",
    "tabular_data.to_parquet(TRANSFORMED_DATA_DIR / \"tabular_data.parquet\", engine=\"pyarrow\")"
   ]
  }
 ],
 "metadata": {
  "kernelspec": {
   "display_name": "citiride_pred_env",
   "language": "python",
   "name": "python3"
  },
  "language_info": {
   "codemirror_mode": {
    "name": "ipython",
    "version": 3
   },
   "file_extension": ".py",
   "mimetype": "text/x-python",
   "name": "python",
   "nbconvert_exporter": "python",
   "pygments_lexer": "ipython3",
   "version": "3.11.11"
  }
 },
 "nbformat": 4,
 "nbformat_minor": 5
}
